{
 "cells": [
  {
   "cell_type": "code",
   "execution_count": null,
   "metadata": {},
   "outputs": [],
   "source": [
    "import os\n",
    "import json\n",
    "from google.colab import auth, userdata, drive\n",
    "from google.cloud import storage\n",
    "from googleapiclient.discovery import build\n",
    "from googleapiclient.http import MediaIoBaseDownload\n",
    "from openai import OpenAI\n",
    "import io\n",
    "\n",
    "# Google認証を行う（スコープを指定）\n",
    "auth.authenticate_user()\n",
    "\n",
    "# 環境変数の設定\n",
    "os.environ[\"OPENAI_API_KEY\"] = userdata.get('OPENAI_API_KEY')\n",
    "\n",
    "print(\"認証完了。環境変数設定完了。\")"
   ]
  },
  {
   "cell_type": "code",
   "execution_count": null,
   "metadata": {},
   "outputs": [],
   "source": [
    "# Colabのシークレット機能を使用してフォルダIDを取得\n",
    "FOLDER_ID = userdata.get('FOLDER_ID')\n",
    "GCS_BUCKET_NAME = 'chatbot-input-documents'\n",
    "\n",
    "# クライアントの初期化\n",
    "drive_service = build('drive', 'v3', cache_discovery=False)\n",
    "openai_client = OpenAI()  # API keyは環境変数から自動的に読み込まれます\n",
    "storage_client = storage.Client()\n",
    "\n",
    "print(f\"FOLDER_ID: {FOLDER_ID}\")\n",
    "print(f\"GCS_BUCKET_NAME: {GCS_BUCKET_NAME}\")\n",
    "print(\"クライアント初期化完了。\")"
   ]
  },
  {
   "cell_type": "code",
   "execution_count": null,
   "metadata": {},
   "outputs": [],
   "source": [
    "# クライアントの初期化\n",
    "drive_service = build('drive', 'v3', cache_discovery=False)\n",
    "openai_client = OpenAI()  # API keyは環境変数から自動的に読み込まれます\n",
    "storage_client = storage.Client()"
   ]
  },
  {
   "cell_type": "code",
   "execution_count": null,
   "metadata": {},
   "outputs": [],
   "source": [
    "def download_document(file_id):\n",
    "    request = drive_service.files().export_media(fileId=file_id, mimeType='text/plain')\n",
    "    fh = io.BytesIO()\n",
    "    downloader = MediaIoBaseDownload(fh, request)\n",
    "    done = False\n",
    "    while not done:\n",
    "        _, done = downloader.next_chunk()\n",
    "    return fh.getvalue().decode('utf-8')\n",
    "\n",
    "def list_documents_in_folder(folder_id):\n",
    "    query = f\"'{folder_id}' in parents and mimeType='application/vnd.google-apps.document'\"\n",
    "    results = drive_service.files().list(q=query, spaces='drive', fields='files(id, name)').execute()\n",
    "    return results.get('files', [])\n",
    "\n",
    "def vectorize_text(text):\n",
    "    response = openai_client.embeddings.create(input=text, model=\"text-embedding-3-small\")\n",
    "    return response.data[0].embedding\n",
    "\n",
    "def save_to_gcs(data, filename):\n",
    "    bucket = storage_client.bucket(GCS_BUCKET_NAME)\n",
    "    blob = bucket.blob(filename)\n",
    "    blob.upload_from_string(json.dumps(data))\n",
    "    print(f\"{filename} をGCSバケット {GCS_BUCKET_NAME} に保存しました\")\n",
    "\n",
    "print(\"ユーティリティ関数定義完了。\")"
   ]
  },
  {
   "cell_type": "code",
   "execution_count": null,
   "metadata": {},
   "outputs": [],
   "source": [
    "documents = list_documents_in_folder(FOLDER_ID)\n",
    "print(f\"フォルダ内のドキュメント数: {len(documents)}\")\n",
    "for doc in documents:\n",
    "    print(f\"ドキュメントID: {doc['id']}, 名前: {doc['name']}\")"
   ]
  },
  {
   "cell_type": "code",
   "execution_count": null,
   "metadata": {},
   "outputs": [],
   "source": [
    "document_vectors = {}\n",
    "\n",
    "for document in documents:\n",
    "    doc_id, doc_name = document['id'], document['name']\n",
    "    print(f\"ドキュメント処理中: {doc_name}\")\n",
    "    \n",
    "    doc_content = download_document(doc_id)\n",
    "    print(f\"内容の長さ: {len(doc_content)} 文字\")\n",
    "    \n",
    "    vector = vectorize_text(doc_content)\n",
    "    document_vectors[doc_name] = vector\n",
    "    print(f\"ベクトルの長さ: {len(vector)}\")\n",
    "    print(\"---\")\n",
    "\n",
    "print(f\"処理したドキュメントの総数: {len(document_vectors)}\")"
   ]
  },
  {
   "cell_type": "code",
   "execution_count": null,
   "metadata": {},
   "outputs": [],
   "source": [
    "# ドキュメントベクトルをGCSに保存\n",
    "save_to_gcs(document_vectors, 'document_vectors.json')\n",
    "\n",
    "# 例：各ベクトルの最初の10要素を表示\n",
    "for doc_name, vector in document_vectors.items():\n",
    "    print(f\"ドキュメント: {doc_name}, ベクトル: {vector[:10]}...\")"
   ]
  }
 ],
 "metadata": {
  "language_info": {
   "name": "python"
  }
 },
 "nbformat": 4,
 "nbformat_minor": 2
}
